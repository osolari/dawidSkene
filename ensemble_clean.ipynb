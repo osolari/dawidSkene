{
 "metadata": {
  "name": "",
  "signature": "sha256:03ce19d10534d0e6f2aea79fb305d0ff0c66247c96343251e318bed42860cc6a"
 },
 "nbformat": 3,
 "nbformat_minor": 0,
 "worksheets": [
  {
   "cells": [
    {
     "cell_type": "code",
     "collapsed": false,
     "input": [
      "import numpy as np"
     ],
     "language": "python",
     "metadata": {},
     "outputs": [],
     "prompt_number": 1
    },
    {
     "cell_type": "code",
     "collapsed": false,
     "input": [
      "dataStr = open(\"./anesthetic.csv\", \"rb\").read()"
     ],
     "language": "python",
     "metadata": {},
     "outputs": [],
     "prompt_number": 2
    },
    {
     "cell_type": "code",
     "collapsed": false,
     "input": [
      "dataStrList = np.array(dataStr[:-1].replace(\"I\", \"1\").split(), )"
     ],
     "language": "python",
     "metadata": {},
     "outputs": [],
     "prompt_number": 8
    },
    {
     "cell_type": "code",
     "collapsed": false,
     "input": [
      "dataStrList.reshape((45,5))"
     ],
     "language": "python",
     "metadata": {},
     "outputs": [
      {
       "ename": "ValueError",
       "evalue": "total size of new array must be unchanged",
       "output_type": "pyerr",
       "traceback": [
        "\u001b[0;31m---------------------------------------------------------------------------\u001b[0m\n\u001b[0;31mValueError\u001b[0m                                Traceback (most recent call last)",
        "\u001b[0;32m<ipython-input-10-370cd6f734bb>\u001b[0m in \u001b[0;36m<module>\u001b[0;34m()\u001b[0m\n\u001b[0;32m----> 1\u001b[0;31m \u001b[0mdataStrList\u001b[0m\u001b[0;34m.\u001b[0m\u001b[0mreshape\u001b[0m\u001b[0;34m(\u001b[0m\u001b[0;34m(\u001b[0m\u001b[0;36m45\u001b[0m\u001b[0;34m,\u001b[0m\u001b[0;36m5\u001b[0m\u001b[0;34m)\u001b[0m\u001b[0;34m)\u001b[0m\u001b[0;34m\u001b[0m\u001b[0m\n\u001b[0m",
        "\u001b[0;31mValueError\u001b[0m: total size of new array must be unchanged"
       ]
      }
     ],
     "prompt_number": 10
    },
    {
     "cell_type": "code",
     "collapsed": false,
     "input": [
      "len(dataStrList)"
     ],
     "language": "python",
     "metadata": {},
     "outputs": [
      {
       "metadata": {},
       "output_type": "pyout",
       "prompt_number": 12,
       "text": [
        "268"
       ]
      }
     ],
     "prompt_number": 12
    },
    {
     "cell_type": "code",
     "collapsed": false,
     "input": [
      "268/45."
     ],
     "language": "python",
     "metadata": {},
     "outputs": [
      {
       "metadata": {},
       "output_type": "pyout",
       "prompt_number": 14,
       "text": [
        "5.955555555555556"
       ]
      }
     ],
     "prompt_number": 14
    },
    {
     "cell_type": "code",
     "collapsed": false,
     "input": [
      "dataStrList"
     ],
     "language": "python",
     "metadata": {},
     "outputs": [
      {
       "metadata": {},
       "output_type": "pyout",
       "prompt_number": 15,
       "text": [
        "array(['1', '111', '1', '1', '1', '1', '16', '1ll', '2', '1', '1', '1',\n",
        "       '31', '1ll', '1', '1', '1', '1', '2', '333', '4', '3', '3', '4',\n",
        "       '17', '1ll', '1', '1', '1', '1', '32', '333', '3', '2', '3', '3',\n",
        "       '3', '112', '2', '1', '2', '2', '18', '1111', '1', '1', '1', '33',\n",
        "       '111', '1', '1', '1', '1', '4', '222', '3', '1', '2', '1', '19',\n",
        "       '222', '2', '2', '2', '1', '34', '222', '2', '2', '2', '2', '5',\n",
        "       '222', '3', '2', '2', '2', '20', '222', '1', '3', '2', '2', '35',\n",
        "       '222', '3', '2', '3', '2', '6', '222', '3', '3', '2', '2', '21',\n",
        "       '222', '2', '2', '2', '2', '36', '433', '4', '3', '4', '3', '7',\n",
        "       '122', '2', '1', '1', '1', '22', '222', '2', '2', '2', '1', '37',\n",
        "       '221', '2', '2', '3', '2', '8', '333', '3', '4', '3', '3', '23',\n",
        "       '222', '3', '2', '2', '2', '38', '232', '3', '2', '3', '3', '9',\n",
        "       '222', '2', '2', '2', '3', '24', '221', '2', '2', '2', '2', '39',\n",
        "       '333', '3', '4', '3', '2', '10', '232', '2', '2', '2', '3', '25',\n",
        "       'ill', '1', '1', '1', '1', '40', '111i', '1', '1', '1', '1', '11',\n",
        "       '444', '4', '4', '4', '4', '26', '111i1', '1', '1', '1', '41',\n",
        "       '111', '1', '1', '1', '1', '12', '222', '3', '3', '4', '3', '27',\n",
        "       '232', '2', '2', '2', '2', '42', '121', '2', '1', '1', '1', '13',\n",
        "       '111', '1', '1', '1', '1', '28', 'ill', '1', '1', '1', '1', '43',\n",
        "       '232', '2', '2', '2', '2', '14', '222', '3', '2', '1', '2', '29',\n",
        "       'ill', '1', '1', '1', '1', '44', '121', '1', '1', '1', '1', '15',\n",
        "       '121', '1', '1', '1', '1', '30', '112', '1', '1', '2', '1', '45',\n",
        "       '222', '2', '2', '2', '2'], \n",
        "      dtype='|S5')"
       ]
      }
     ],
     "prompt_number": 15
    },
    {
     "cell_type": "code",
     "collapsed": false,
     "input": [],
     "language": "python",
     "metadata": {},
     "outputs": []
    }
   ],
   "metadata": {}
  }
 ]
}